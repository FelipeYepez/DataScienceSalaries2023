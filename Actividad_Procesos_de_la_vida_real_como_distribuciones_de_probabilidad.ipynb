{
  "nbformat": 4,
  "nbformat_minor": 0,
  "metadata": {
    "colab": {
      "provenance": []
    },
    "kernelspec": {
      "name": "python3",
      "display_name": "Python 3"
    },
    "language_info": {
      "name": "python"
    }
  },
  "cells": [
    {
      "cell_type": "markdown",
      "source": [
        "# Procesos de la vida real como distribuciones de probabilidad\n",
        "\n",
        "## Presentado por:\n",
        "- Felipe Gabriel Yépez Villacreses - A01658002\n",
        "\n",
        "## Fecha:\n",
        "15/05/2023\n",
        "\n",
        "## Descripción:\n",
        "Identificar procesos de la vida real que puedan ser modelados mediante una distribución de probabilidad.\n",
        "\n"
      ],
      "metadata": {
        "id": "zTJVEmrWCUyH"
      }
    },
    {
      "cell_type": "code",
      "source": [
        "import pandas as pd\n",
        "import matplotlib.pyplot as plt\n",
        "import seaborn as sns\n",
        "! pip install fitter\n",
        "from fitter import Fitter"
      ],
      "metadata": {
        "colab": {
          "base_uri": "https://localhost:8080/"
        },
        "id": "rZ2TAXqo_FaB",
        "outputId": "8356a63f-a763-444c-becc-aa904414889a"
      },
      "execution_count": null,
      "outputs": [
        {
          "output_type": "stream",
          "name": "stdout",
          "text": [
            "Looking in indexes: https://pypi.org/simple, https://us-python.pkg.dev/colab-wheels/public/simple/\n",
            "Collecting fitter\n",
            "  Downloading fitter-1.5.2.tar.gz (27 kB)\n",
            "  Preparing metadata (setup.py) ... \u001b[?25l\u001b[?25hdone\n",
            "Requirement already satisfied: click in /usr/local/lib/python3.10/dist-packages (from fitter) (8.1.3)\n",
            "Requirement already satisfied: joblib in /usr/local/lib/python3.10/dist-packages (from fitter) (1.2.0)\n",
            "Requirement already satisfied: matplotlib in /usr/local/lib/python3.10/dist-packages (from fitter) (3.7.1)\n",
            "Requirement already satisfied: numpy in /usr/local/lib/python3.10/dist-packages (from fitter) (1.22.4)\n",
            "Requirement already satisfied: pandas in /usr/local/lib/python3.10/dist-packages (from fitter) (1.5.3)\n",
            "Requirement already satisfied: scipy>=0.18 in /usr/local/lib/python3.10/dist-packages (from fitter) (1.10.1)\n",
            "Requirement already satisfied: tqdm in /usr/local/lib/python3.10/dist-packages (from fitter) (4.65.0)\n",
            "Requirement already satisfied: contourpy>=1.0.1 in /usr/local/lib/python3.10/dist-packages (from matplotlib->fitter) (1.0.7)\n",
            "Requirement already satisfied: cycler>=0.10 in /usr/local/lib/python3.10/dist-packages (from matplotlib->fitter) (0.11.0)\n",
            "Requirement already satisfied: fonttools>=4.22.0 in /usr/local/lib/python3.10/dist-packages (from matplotlib->fitter) (4.39.3)\n",
            "Requirement already satisfied: kiwisolver>=1.0.1 in /usr/local/lib/python3.10/dist-packages (from matplotlib->fitter) (1.4.4)\n",
            "Requirement already satisfied: packaging>=20.0 in /usr/local/lib/python3.10/dist-packages (from matplotlib->fitter) (23.1)\n",
            "Requirement already satisfied: pillow>=6.2.0 in /usr/local/lib/python3.10/dist-packages (from matplotlib->fitter) (8.4.0)\n",
            "Requirement already satisfied: pyparsing>=2.3.1 in /usr/local/lib/python3.10/dist-packages (from matplotlib->fitter) (3.0.9)\n",
            "Requirement already satisfied: python-dateutil>=2.7 in /usr/local/lib/python3.10/dist-packages (from matplotlib->fitter) (2.8.2)\n",
            "Requirement already satisfied: pytz>=2020.1 in /usr/local/lib/python3.10/dist-packages (from pandas->fitter) (2022.7.1)\n",
            "Requirement already satisfied: six>=1.5 in /usr/local/lib/python3.10/dist-packages (from python-dateutil>=2.7->matplotlib->fitter) (1.16.0)\n",
            "Building wheels for collected packages: fitter\n",
            "  Building wheel for fitter (setup.py) ... \u001b[?25l\u001b[?25hdone\n",
            "  Created wheel for fitter: filename=fitter-1.5.2-py3-none-any.whl size=25608 sha256=d547df7969cb844bf5aa407ef25ac79086a47ab4a7d7b96f3fdcefdfe2012e63\n",
            "  Stored in directory: /root/.cache/pip/wheels/eb/50/1d/6d8762c6a9a50d3668e53f98164ba13ca314827fb5ac7ebeaa\n",
            "Successfully built fitter\n",
            "Installing collected packages: fitter\n",
            "Successfully installed fitter-1.5.2\n"
          ]
        }
      ]
    },
    {
      "cell_type": "markdown",
      "source": [
        "## Exploración de Base de Datos\n",
        "Salarios en el área de Ciencia de Datos en 2023.\n",
        "Recuperado de: https://www.kaggle.com/datasets/arnabchaki/data-science-salaries-2023\n",
        "\n",
        "Esta base de datos se puede utilizar para determinar las condiciones que afectan el salario de un científico de datos con la finalidad de percibir sueldos más altos una vez se logre identificar aquellas condiciones favorables en caso de que hubieran. "
      ],
      "metadata": {
        "id": "xsdUYWSUTgAB"
      }
    },
    {
      "cell_type": "code",
      "source": [
        "url = 'https://raw.githubusercontent.com/FelipeYepez/DataScienceSalaries2023/main/ds_salaries.csv'\n",
        "df = pd.read_csv(url)\n",
        "df.head(3)"
      ],
      "metadata": {
        "colab": {
          "base_uri": "https://localhost:8080/",
          "height": 710
        },
        "id": "LliMqVEwDXjp",
        "outputId": "20f35aa3-0e4e-4be1-b968-912b2cc6a2da"
      },
      "execution_count": null,
      "outputs": [
        {
          "output_type": "stream",
          "name": "stderr",
          "text": [
            "/usr/local/lib/python3.10/dist-packages/scipy/integrate/_quadpack_py.py:1225: IntegrationWarning: The maximum number of subdivisions (50) has been achieved.\n",
            "  If increasing the limit yields no improvement it is advised to analyze \n",
            "  the integrand in order to determine the difficulties.  If the position of a \n",
            "  local difficulty can be determined (singularity, discontinuity) one will \n",
            "  probably gain from splitting up the interval and calling the integrator \n",
            "  on the subranges.  Perhaps a special-purpose integrator should be used.\n",
            "  quad_r = quad(f, low, high, args=args, full_output=self.full_output,\n",
            "/usr/local/lib/python3.10/dist-packages/scipy/integrate/_quadpack_py.py:1225: IntegrationWarning: The maximum number of subdivisions (50) has been achieved.\n",
            "  If increasing the limit yields no improvement it is advised to analyze \n",
            "  the integrand in order to determine the difficulties.  If the position of a \n",
            "  local difficulty can be determined (singularity, discontinuity) one will \n",
            "  probably gain from splitting up the interval and calling the integrator \n",
            "  on the subranges.  Perhaps a special-purpose integrator should be used.\n",
            "  quad_r = quad(f, low, high, args=args, full_output=self.full_output,\n",
            "/usr/local/lib/python3.10/dist-packages/scipy/integrate/_quadpack_py.py:1225: IntegrationWarning: The maximum number of subdivisions (50) has been achieved.\n",
            "  If increasing the limit yields no improvement it is advised to analyze \n",
            "  the integrand in order to determine the difficulties.  If the position of a \n",
            "  local difficulty can be determined (singularity, discontinuity) one will \n",
            "  probably gain from splitting up the interval and calling the integrator \n",
            "  on the subranges.  Perhaps a special-purpose integrator should be used.\n",
            "  quad_r = quad(f, low, high, args=args, full_output=self.full_output,\n",
            "/usr/local/lib/python3.10/dist-packages/scipy/integrate/_quadpack_py.py:1225: IntegrationWarning: The occurrence of roundoff error is detected, which prevents \n",
            "  the requested tolerance from being achieved.  The error may be \n",
            "  underestimated.\n",
            "  quad_r = quad(f, low, high, args=args, full_output=self.full_output,\n"
          ]
        },
        {
          "output_type": "execute_result",
          "data": {
            "text/plain": [
              "   work_year experience_level employment_type                 job_title  \\\n",
              "0       2023               SE              FT  Principal Data Scientist   \n",
              "1       2023               MI              CT               ML Engineer   \n",
              "2       2023               MI              CT               ML Engineer   \n",
              "\n",
              "   salary salary_currency  salary_in_usd employee_residence  remote_ratio  \\\n",
              "0   80000             EUR          85847                 ES           100   \n",
              "1   30000             USD          30000                 US           100   \n",
              "2   25500             USD          25500                 US           100   \n",
              "\n",
              "  company_location company_size  \n",
              "0               ES            L  \n",
              "1               US            S  \n",
              "2               US            S  "
            ],
            "text/html": [
              "\n",
              "  <div id=\"df-47ea930f-a599-4627-a9bf-ed3ed245c84b\">\n",
              "    <div class=\"colab-df-container\">\n",
              "      <div>\n",
              "<style scoped>\n",
              "    .dataframe tbody tr th:only-of-type {\n",
              "        vertical-align: middle;\n",
              "    }\n",
              "\n",
              "    .dataframe tbody tr th {\n",
              "        vertical-align: top;\n",
              "    }\n",
              "\n",
              "    .dataframe thead th {\n",
              "        text-align: right;\n",
              "    }\n",
              "</style>\n",
              "<table border=\"1\" class=\"dataframe\">\n",
              "  <thead>\n",
              "    <tr style=\"text-align: right;\">\n",
              "      <th></th>\n",
              "      <th>work_year</th>\n",
              "      <th>experience_level</th>\n",
              "      <th>employment_type</th>\n",
              "      <th>job_title</th>\n",
              "      <th>salary</th>\n",
              "      <th>salary_currency</th>\n",
              "      <th>salary_in_usd</th>\n",
              "      <th>employee_residence</th>\n",
              "      <th>remote_ratio</th>\n",
              "      <th>company_location</th>\n",
              "      <th>company_size</th>\n",
              "    </tr>\n",
              "  </thead>\n",
              "  <tbody>\n",
              "    <tr>\n",
              "      <th>0</th>\n",
              "      <td>2023</td>\n",
              "      <td>SE</td>\n",
              "      <td>FT</td>\n",
              "      <td>Principal Data Scientist</td>\n",
              "      <td>80000</td>\n",
              "      <td>EUR</td>\n",
              "      <td>85847</td>\n",
              "      <td>ES</td>\n",
              "      <td>100</td>\n",
              "      <td>ES</td>\n",
              "      <td>L</td>\n",
              "    </tr>\n",
              "    <tr>\n",
              "      <th>1</th>\n",
              "      <td>2023</td>\n",
              "      <td>MI</td>\n",
              "      <td>CT</td>\n",
              "      <td>ML Engineer</td>\n",
              "      <td>30000</td>\n",
              "      <td>USD</td>\n",
              "      <td>30000</td>\n",
              "      <td>US</td>\n",
              "      <td>100</td>\n",
              "      <td>US</td>\n",
              "      <td>S</td>\n",
              "    </tr>\n",
              "    <tr>\n",
              "      <th>2</th>\n",
              "      <td>2023</td>\n",
              "      <td>MI</td>\n",
              "      <td>CT</td>\n",
              "      <td>ML Engineer</td>\n",
              "      <td>25500</td>\n",
              "      <td>USD</td>\n",
              "      <td>25500</td>\n",
              "      <td>US</td>\n",
              "      <td>100</td>\n",
              "      <td>US</td>\n",
              "      <td>S</td>\n",
              "    </tr>\n",
              "  </tbody>\n",
              "</table>\n",
              "</div>\n",
              "      <button class=\"colab-df-convert\" onclick=\"convertToInteractive('df-47ea930f-a599-4627-a9bf-ed3ed245c84b')\"\n",
              "              title=\"Convert this dataframe to an interactive table.\"\n",
              "              style=\"display:none;\">\n",
              "        \n",
              "  <svg xmlns=\"http://www.w3.org/2000/svg\" height=\"24px\"viewBox=\"0 0 24 24\"\n",
              "       width=\"24px\">\n",
              "    <path d=\"M0 0h24v24H0V0z\" fill=\"none\"/>\n",
              "    <path d=\"M18.56 5.44l.94 2.06.94-2.06 2.06-.94-2.06-.94-.94-2.06-.94 2.06-2.06.94zm-11 1L8.5 8.5l.94-2.06 2.06-.94-2.06-.94L8.5 2.5l-.94 2.06-2.06.94zm10 10l.94 2.06.94-2.06 2.06-.94-2.06-.94-.94-2.06-.94 2.06-2.06.94z\"/><path d=\"M17.41 7.96l-1.37-1.37c-.4-.4-.92-.59-1.43-.59-.52 0-1.04.2-1.43.59L10.3 9.45l-7.72 7.72c-.78.78-.78 2.05 0 2.83L4 21.41c.39.39.9.59 1.41.59.51 0 1.02-.2 1.41-.59l7.78-7.78 2.81-2.81c.8-.78.8-2.07 0-2.86zM5.41 20L4 18.59l7.72-7.72 1.47 1.35L5.41 20z\"/>\n",
              "  </svg>\n",
              "      </button>\n",
              "      \n",
              "  <style>\n",
              "    .colab-df-container {\n",
              "      display:flex;\n",
              "      flex-wrap:wrap;\n",
              "      gap: 12px;\n",
              "    }\n",
              "\n",
              "    .colab-df-convert {\n",
              "      background-color: #E8F0FE;\n",
              "      border: none;\n",
              "      border-radius: 50%;\n",
              "      cursor: pointer;\n",
              "      display: none;\n",
              "      fill: #1967D2;\n",
              "      height: 32px;\n",
              "      padding: 0 0 0 0;\n",
              "      width: 32px;\n",
              "    }\n",
              "\n",
              "    .colab-df-convert:hover {\n",
              "      background-color: #E2EBFA;\n",
              "      box-shadow: 0px 1px 2px rgba(60, 64, 67, 0.3), 0px 1px 3px 1px rgba(60, 64, 67, 0.15);\n",
              "      fill: #174EA6;\n",
              "    }\n",
              "\n",
              "    [theme=dark] .colab-df-convert {\n",
              "      background-color: #3B4455;\n",
              "      fill: #D2E3FC;\n",
              "    }\n",
              "\n",
              "    [theme=dark] .colab-df-convert:hover {\n",
              "      background-color: #434B5C;\n",
              "      box-shadow: 0px 1px 3px 1px rgba(0, 0, 0, 0.15);\n",
              "      filter: drop-shadow(0px 1px 2px rgba(0, 0, 0, 0.3));\n",
              "      fill: #FFFFFF;\n",
              "    }\n",
              "  </style>\n",
              "\n",
              "      <script>\n",
              "        const buttonEl =\n",
              "          document.querySelector('#df-47ea930f-a599-4627-a9bf-ed3ed245c84b button.colab-df-convert');\n",
              "        buttonEl.style.display =\n",
              "          google.colab.kernel.accessAllowed ? 'block' : 'none';\n",
              "\n",
              "        async function convertToInteractive(key) {\n",
              "          const element = document.querySelector('#df-47ea930f-a599-4627-a9bf-ed3ed245c84b');\n",
              "          const dataTable =\n",
              "            await google.colab.kernel.invokeFunction('convertToInteractive',\n",
              "                                                     [key], {});\n",
              "          if (!dataTable) return;\n",
              "\n",
              "          const docLinkHtml = 'Like what you see? Visit the ' +\n",
              "            '<a target=\"_blank\" href=https://colab.research.google.com/notebooks/data_table.ipynb>data table notebook</a>'\n",
              "            + ' to learn more about interactive tables.';\n",
              "          element.innerHTML = '';\n",
              "          dataTable['output_type'] = 'display_data';\n",
              "          await google.colab.output.renderOutput(dataTable, element);\n",
              "          const docLink = document.createElement('div');\n",
              "          docLink.innerHTML = docLinkHtml;\n",
              "          element.appendChild(docLink);\n",
              "        }\n",
              "      </script>\n",
              "    </div>\n",
              "  </div>\n",
              "  "
            ]
          },
          "metadata": {},
          "execution_count": 33
        }
      ]
    },
    {
      "cell_type": "markdown",
      "source": [
        "Variables"
      ],
      "metadata": {
        "id": "wDAC4Vr1fqOP"
      }
    },
    {
      "cell_type": "code",
      "source": [
        "df.info()"
      ],
      "metadata": {
        "colab": {
          "base_uri": "https://localhost:8080/"
        },
        "id": "vtU7WQDog87f",
        "outputId": "0dff07e5-c59a-4e31-895b-295efcdc2cc9"
      },
      "execution_count": null,
      "outputs": [
        {
          "output_type": "stream",
          "name": "stdout",
          "text": [
            "<class 'pandas.core.frame.DataFrame'>\n",
            "RangeIndex: 3755 entries, 0 to 3754\n",
            "Data columns (total 11 columns):\n",
            " #   Column              Non-Null Count  Dtype \n",
            "---  ------              --------------  ----- \n",
            " 0   work_year           3755 non-null   int64 \n",
            " 1   experience_level    3755 non-null   object\n",
            " 2   employment_type     3755 non-null   object\n",
            " 3   job_title           3755 non-null   object\n",
            " 4   salary              3755 non-null   int64 \n",
            " 5   salary_currency     3755 non-null   object\n",
            " 6   salary_in_usd       3755 non-null   int64 \n",
            " 7   employee_residence  3755 non-null   object\n",
            " 8   remote_ratio        3755 non-null   int64 \n",
            " 9   company_location    3755 non-null   object\n",
            " 10  company_size        3755 non-null   object\n",
            "dtypes: int64(4), object(7)\n",
            "memory usage: 322.8+ KB\n"
          ]
        }
      ]
    },
    {
      "cell_type": "markdown",
      "source": [
        "La base de datos cuenta con un total de 3755 registros referentes a los salarios de trabajos en ciencia de datos. Como se puede observar no se cuenta con valores nulos faltantes."
      ],
      "metadata": {
        "id": "e_vk7VRrfyFF"
      }
    },
    {
      "cell_type": "markdown",
      "source": [
        "Existen 11 columnas para clasificar cada registro.\n",
        "1. _work_year_: año en el que fue pagado el salario.\n",
        "2. _experience_level_: nivel de experiencia.\n",
        "3. _employment_type_: tipo de empleo para el rol.\n",
        "4. _job_title_: rol en el que se trabajó.\n",
        "5. _salary_: salario total.\n",
        "6. _salary_currency_: El tipo de moneda del salario\n",
        "7. _salaryinusd_: salario en USD\n",
        "8. _employee_residence_: país de residencia del empleado durante el trabajo\n",
        "9. _remote_ratio_: porcentaje del trabajo realizado remotamente\n",
        "10. _company_location_: país de la empresa empleadora\n",
        "11. _company_size_: tamaño de la empresa según número de trabajadores"
      ],
      "metadata": {
        "id": "JuOeW3agg0Js"
      }
    },
    {
      "cell_type": "markdown",
      "source": [
        "Las variables anteriores pueden ser clasificadas según su tipo y escala de medición, a continuación el detalle de cada una."
      ],
      "metadata": {
        "id": "VOLAL9jAhAfw"
      }
    },
    {
      "cell_type": "markdown",
      "source": [
        "* Variables cuantitativas: datos contables o medibles\n",
        "    * Escala de razón\n",
        "        * work_year\n",
        "        * salary\n",
        "        * salary_in_usd\n",
        "* Variables cualitativas: datos categóricos\n",
        "    * Escala nominal\n",
        "        * employment_type\n",
        "        * job_title\n",
        "        * salary_currency\n",
        "        * employee_residence\n",
        "        * company_location\n",
        "    * Escala ordinal\n",
        "        * experience_level\n",
        "        * remote_ratio\n",
        "        * company_size   "
      ],
      "metadata": {
        "id": "GkLmFX_nhIug"
      }
    },
    {
      "cell_type": "code",
      "source": [
        "df['remote_ratio'].replace([0, 50, 100], ['0', '50', '100'], inplace=True)\n",
        "df.describe()"
      ],
      "metadata": {
        "colab": {
          "base_uri": "https://localhost:8080/",
          "height": 300
        },
        "id": "-OhcDUzThvSe",
        "outputId": "ad35a44d-7cac-47c2-f846-6e0214df2b49"
      },
      "execution_count": null,
      "outputs": [
        {
          "output_type": "execute_result",
          "data": {
            "text/plain": [
              "         work_year        salary  salary_in_usd\n",
              "count  3755.000000  3.755000e+03    3755.000000\n",
              "mean   2022.373635  1.906956e+05  137570.389880\n",
              "std       0.691448  6.716765e+05   63055.625278\n",
              "min    2020.000000  6.000000e+03    5132.000000\n",
              "25%    2022.000000  1.000000e+05   95000.000000\n",
              "50%    2022.000000  1.380000e+05  135000.000000\n",
              "75%    2023.000000  1.800000e+05  175000.000000\n",
              "max    2023.000000  3.040000e+07  450000.000000"
            ],
            "text/html": [
              "\n",
              "  <div id=\"df-9f000e2c-e49f-4ce4-b692-d7f98ff99d2a\">\n",
              "    <div class=\"colab-df-container\">\n",
              "      <div>\n",
              "<style scoped>\n",
              "    .dataframe tbody tr th:only-of-type {\n",
              "        vertical-align: middle;\n",
              "    }\n",
              "\n",
              "    .dataframe tbody tr th {\n",
              "        vertical-align: top;\n",
              "    }\n",
              "\n",
              "    .dataframe thead th {\n",
              "        text-align: right;\n",
              "    }\n",
              "</style>\n",
              "<table border=\"1\" class=\"dataframe\">\n",
              "  <thead>\n",
              "    <tr style=\"text-align: right;\">\n",
              "      <th></th>\n",
              "      <th>work_year</th>\n",
              "      <th>salary</th>\n",
              "      <th>salary_in_usd</th>\n",
              "    </tr>\n",
              "  </thead>\n",
              "  <tbody>\n",
              "    <tr>\n",
              "      <th>count</th>\n",
              "      <td>3755.000000</td>\n",
              "      <td>3.755000e+03</td>\n",
              "      <td>3755.000000</td>\n",
              "    </tr>\n",
              "    <tr>\n",
              "      <th>mean</th>\n",
              "      <td>2022.373635</td>\n",
              "      <td>1.906956e+05</td>\n",
              "      <td>137570.389880</td>\n",
              "    </tr>\n",
              "    <tr>\n",
              "      <th>std</th>\n",
              "      <td>0.691448</td>\n",
              "      <td>6.716765e+05</td>\n",
              "      <td>63055.625278</td>\n",
              "    </tr>\n",
              "    <tr>\n",
              "      <th>min</th>\n",
              "      <td>2020.000000</td>\n",
              "      <td>6.000000e+03</td>\n",
              "      <td>5132.000000</td>\n",
              "    </tr>\n",
              "    <tr>\n",
              "      <th>25%</th>\n",
              "      <td>2022.000000</td>\n",
              "      <td>1.000000e+05</td>\n",
              "      <td>95000.000000</td>\n",
              "    </tr>\n",
              "    <tr>\n",
              "      <th>50%</th>\n",
              "      <td>2022.000000</td>\n",
              "      <td>1.380000e+05</td>\n",
              "      <td>135000.000000</td>\n",
              "    </tr>\n",
              "    <tr>\n",
              "      <th>75%</th>\n",
              "      <td>2023.000000</td>\n",
              "      <td>1.800000e+05</td>\n",
              "      <td>175000.000000</td>\n",
              "    </tr>\n",
              "    <tr>\n",
              "      <th>max</th>\n",
              "      <td>2023.000000</td>\n",
              "      <td>3.040000e+07</td>\n",
              "      <td>450000.000000</td>\n",
              "    </tr>\n",
              "  </tbody>\n",
              "</table>\n",
              "</div>\n",
              "      <button class=\"colab-df-convert\" onclick=\"convertToInteractive('df-9f000e2c-e49f-4ce4-b692-d7f98ff99d2a')\"\n",
              "              title=\"Convert this dataframe to an interactive table.\"\n",
              "              style=\"display:none;\">\n",
              "        \n",
              "  <svg xmlns=\"http://www.w3.org/2000/svg\" height=\"24px\"viewBox=\"0 0 24 24\"\n",
              "       width=\"24px\">\n",
              "    <path d=\"M0 0h24v24H0V0z\" fill=\"none\"/>\n",
              "    <path d=\"M18.56 5.44l.94 2.06.94-2.06 2.06-.94-2.06-.94-.94-2.06-.94 2.06-2.06.94zm-11 1L8.5 8.5l.94-2.06 2.06-.94-2.06-.94L8.5 2.5l-.94 2.06-2.06.94zm10 10l.94 2.06.94-2.06 2.06-.94-2.06-.94-.94-2.06-.94 2.06-2.06.94z\"/><path d=\"M17.41 7.96l-1.37-1.37c-.4-.4-.92-.59-1.43-.59-.52 0-1.04.2-1.43.59L10.3 9.45l-7.72 7.72c-.78.78-.78 2.05 0 2.83L4 21.41c.39.39.9.59 1.41.59.51 0 1.02-.2 1.41-.59l7.78-7.78 2.81-2.81c.8-.78.8-2.07 0-2.86zM5.41 20L4 18.59l7.72-7.72 1.47 1.35L5.41 20z\"/>\n",
              "  </svg>\n",
              "      </button>\n",
              "      \n",
              "  <style>\n",
              "    .colab-df-container {\n",
              "      display:flex;\n",
              "      flex-wrap:wrap;\n",
              "      gap: 12px;\n",
              "    }\n",
              "\n",
              "    .colab-df-convert {\n",
              "      background-color: #E8F0FE;\n",
              "      border: none;\n",
              "      border-radius: 50%;\n",
              "      cursor: pointer;\n",
              "      display: none;\n",
              "      fill: #1967D2;\n",
              "      height: 32px;\n",
              "      padding: 0 0 0 0;\n",
              "      width: 32px;\n",
              "    }\n",
              "\n",
              "    .colab-df-convert:hover {\n",
              "      background-color: #E2EBFA;\n",
              "      box-shadow: 0px 1px 2px rgba(60, 64, 67, 0.3), 0px 1px 3px 1px rgba(60, 64, 67, 0.15);\n",
              "      fill: #174EA6;\n",
              "    }\n",
              "\n",
              "    [theme=dark] .colab-df-convert {\n",
              "      background-color: #3B4455;\n",
              "      fill: #D2E3FC;\n",
              "    }\n",
              "\n",
              "    [theme=dark] .colab-df-convert:hover {\n",
              "      background-color: #434B5C;\n",
              "      box-shadow: 0px 1px 3px 1px rgba(0, 0, 0, 0.15);\n",
              "      filter: drop-shadow(0px 1px 2px rgba(0, 0, 0, 0.3));\n",
              "      fill: #FFFFFF;\n",
              "    }\n",
              "  </style>\n",
              "\n",
              "      <script>\n",
              "        const buttonEl =\n",
              "          document.querySelector('#df-9f000e2c-e49f-4ce4-b692-d7f98ff99d2a button.colab-df-convert');\n",
              "        buttonEl.style.display =\n",
              "          google.colab.kernel.accessAllowed ? 'block' : 'none';\n",
              "\n",
              "        async function convertToInteractive(key) {\n",
              "          const element = document.querySelector('#df-9f000e2c-e49f-4ce4-b692-d7f98ff99d2a');\n",
              "          const dataTable =\n",
              "            await google.colab.kernel.invokeFunction('convertToInteractive',\n",
              "                                                     [key], {});\n",
              "          if (!dataTable) return;\n",
              "\n",
              "          const docLinkHtml = 'Like what you see? Visit the ' +\n",
              "            '<a target=\"_blank\" href=https://colab.research.google.com/notebooks/data_table.ipynb>data table notebook</a>'\n",
              "            + ' to learn more about interactive tables.';\n",
              "          element.innerHTML = '';\n",
              "          dataTable['output_type'] = 'display_data';\n",
              "          await google.colab.output.renderOutput(dataTable, element);\n",
              "          const docLink = document.createElement('div');\n",
              "          docLink.innerHTML = docLinkHtml;\n",
              "          element.appendChild(docLink);\n",
              "        }\n",
              "      </script>\n",
              "    </div>\n",
              "  </div>\n",
              "  "
            ]
          },
          "metadata": {},
          "execution_count": 24
        }
      ]
    },
    {
      "cell_type": "markdown",
      "source": [
        "De la anterior tabla se pueden encontrar las medidas estadísticas de las variables cuantitativas de la base de datos. Se puede encontrar el salario medio y salario medio en dólares estadounidenses.La base de datos cuenta con registros desde el 2020 al 2023."
      ],
      "metadata": {
        "id": "Y9jo6gLsiIhC"
      }
    },
    {
      "cell_type": "code",
      "source": [
        "df[['experience_level', 'employment_type', 'job_title', 'salary_currency',\n",
        "          'employee_residence', 'remote_ratio', 'company_location', \n",
        "          'company_size']].mode()"
      ],
      "metadata": {
        "colab": {
          "base_uri": "https://localhost:8080/",
          "height": 81
        },
        "id": "Yy-c5Norjxgs",
        "outputId": "23ab811f-3c22-4b2f-bdf2-2689c476e5a1"
      },
      "execution_count": null,
      "outputs": [
        {
          "output_type": "execute_result",
          "data": {
            "text/plain": [
              "  experience_level employment_type      job_title salary_currency  \\\n",
              "0               SE              FT  Data Engineer             USD   \n",
              "\n",
              "  employee_residence remote_ratio company_location company_size  \n",
              "0                 US            0               US            M  "
            ],
            "text/html": [
              "\n",
              "  <div id=\"df-4184c111-9bd0-4b83-8fdf-f13965b8548f\">\n",
              "    <div class=\"colab-df-container\">\n",
              "      <div>\n",
              "<style scoped>\n",
              "    .dataframe tbody tr th:only-of-type {\n",
              "        vertical-align: middle;\n",
              "    }\n",
              "\n",
              "    .dataframe tbody tr th {\n",
              "        vertical-align: top;\n",
              "    }\n",
              "\n",
              "    .dataframe thead th {\n",
              "        text-align: right;\n",
              "    }\n",
              "</style>\n",
              "<table border=\"1\" class=\"dataframe\">\n",
              "  <thead>\n",
              "    <tr style=\"text-align: right;\">\n",
              "      <th></th>\n",
              "      <th>experience_level</th>\n",
              "      <th>employment_type</th>\n",
              "      <th>job_title</th>\n",
              "      <th>salary_currency</th>\n",
              "      <th>employee_residence</th>\n",
              "      <th>remote_ratio</th>\n",
              "      <th>company_location</th>\n",
              "      <th>company_size</th>\n",
              "    </tr>\n",
              "  </thead>\n",
              "  <tbody>\n",
              "    <tr>\n",
              "      <th>0</th>\n",
              "      <td>SE</td>\n",
              "      <td>FT</td>\n",
              "      <td>Data Engineer</td>\n",
              "      <td>USD</td>\n",
              "      <td>US</td>\n",
              "      <td>0</td>\n",
              "      <td>US</td>\n",
              "      <td>M</td>\n",
              "    </tr>\n",
              "  </tbody>\n",
              "</table>\n",
              "</div>\n",
              "      <button class=\"colab-df-convert\" onclick=\"convertToInteractive('df-4184c111-9bd0-4b83-8fdf-f13965b8548f')\"\n",
              "              title=\"Convert this dataframe to an interactive table.\"\n",
              "              style=\"display:none;\">\n",
              "        \n",
              "  <svg xmlns=\"http://www.w3.org/2000/svg\" height=\"24px\"viewBox=\"0 0 24 24\"\n",
              "       width=\"24px\">\n",
              "    <path d=\"M0 0h24v24H0V0z\" fill=\"none\"/>\n",
              "    <path d=\"M18.56 5.44l.94 2.06.94-2.06 2.06-.94-2.06-.94-.94-2.06-.94 2.06-2.06.94zm-11 1L8.5 8.5l.94-2.06 2.06-.94-2.06-.94L8.5 2.5l-.94 2.06-2.06.94zm10 10l.94 2.06.94-2.06 2.06-.94-2.06-.94-.94-2.06-.94 2.06-2.06.94z\"/><path d=\"M17.41 7.96l-1.37-1.37c-.4-.4-.92-.59-1.43-.59-.52 0-1.04.2-1.43.59L10.3 9.45l-7.72 7.72c-.78.78-.78 2.05 0 2.83L4 21.41c.39.39.9.59 1.41.59.51 0 1.02-.2 1.41-.59l7.78-7.78 2.81-2.81c.8-.78.8-2.07 0-2.86zM5.41 20L4 18.59l7.72-7.72 1.47 1.35L5.41 20z\"/>\n",
              "  </svg>\n",
              "      </button>\n",
              "      \n",
              "  <style>\n",
              "    .colab-df-container {\n",
              "      display:flex;\n",
              "      flex-wrap:wrap;\n",
              "      gap: 12px;\n",
              "    }\n",
              "\n",
              "    .colab-df-convert {\n",
              "      background-color: #E8F0FE;\n",
              "      border: none;\n",
              "      border-radius: 50%;\n",
              "      cursor: pointer;\n",
              "      display: none;\n",
              "      fill: #1967D2;\n",
              "      height: 32px;\n",
              "      padding: 0 0 0 0;\n",
              "      width: 32px;\n",
              "    }\n",
              "\n",
              "    .colab-df-convert:hover {\n",
              "      background-color: #E2EBFA;\n",
              "      box-shadow: 0px 1px 2px rgba(60, 64, 67, 0.3), 0px 1px 3px 1px rgba(60, 64, 67, 0.15);\n",
              "      fill: #174EA6;\n",
              "    }\n",
              "\n",
              "    [theme=dark] .colab-df-convert {\n",
              "      background-color: #3B4455;\n",
              "      fill: #D2E3FC;\n",
              "    }\n",
              "\n",
              "    [theme=dark] .colab-df-convert:hover {\n",
              "      background-color: #434B5C;\n",
              "      box-shadow: 0px 1px 3px 1px rgba(0, 0, 0, 0.15);\n",
              "      filter: drop-shadow(0px 1px 2px rgba(0, 0, 0, 0.3));\n",
              "      fill: #FFFFFF;\n",
              "    }\n",
              "  </style>\n",
              "\n",
              "      <script>\n",
              "        const buttonEl =\n",
              "          document.querySelector('#df-4184c111-9bd0-4b83-8fdf-f13965b8548f button.colab-df-convert');\n",
              "        buttonEl.style.display =\n",
              "          google.colab.kernel.accessAllowed ? 'block' : 'none';\n",
              "\n",
              "        async function convertToInteractive(key) {\n",
              "          const element = document.querySelector('#df-4184c111-9bd0-4b83-8fdf-f13965b8548f');\n",
              "          const dataTable =\n",
              "            await google.colab.kernel.invokeFunction('convertToInteractive',\n",
              "                                                     [key], {});\n",
              "          if (!dataTable) return;\n",
              "\n",
              "          const docLinkHtml = 'Like what you see? Visit the ' +\n",
              "            '<a target=\"_blank\" href=https://colab.research.google.com/notebooks/data_table.ipynb>data table notebook</a>'\n",
              "            + ' to learn more about interactive tables.';\n",
              "          element.innerHTML = '';\n",
              "          dataTable['output_type'] = 'display_data';\n",
              "          await google.colab.output.renderOutput(dataTable, element);\n",
              "          const docLink = document.createElement('div');\n",
              "          docLink.innerHTML = docLinkHtml;\n",
              "          element.appendChild(docLink);\n",
              "        }\n",
              "      </script>\n",
              "    </div>\n",
              "  </div>\n",
              "  "
            ]
          },
          "metadata": {},
          "execution_count": 18
        }
      ]
    },
    {
      "cell_type": "markdown",
      "source": [
        "A través de la moda se puede observar cuáles son los datos más repetidos de cada registro. Se puede observar que la mayor parte de registros representan a un empleado en el nivel de Senior-level trabajando tiempo completo como Data Engineer que se le paga en dólares dado que reside en Estados Unidos y trabaja de forma presencial en su oficina, también ubicada en Estados Unidos con un número total de empleados entre 50 y 250."
      ],
      "metadata": {
        "id": "DaIn5wNojbpi"
      }
    },
    {
      "cell_type": "markdown",
      "source": [
        "## Visualización de Salario en USD"
      ],
      "metadata": {
        "id": "96tFWsM9EJuq"
      }
    },
    {
      "cell_type": "code",
      "source": [
        "pd.plotting.scatter_matrix(df)"
      ],
      "metadata": {
        "colab": {
          "base_uri": "https://localhost:8080/",
          "height": 653
        },
        "id": "JsGMHyY4FyB3",
        "outputId": "57ea9ae1-a14d-481e-c660-8f0b2717af34"
      },
      "execution_count": null,
      "outputs": [
        {
          "output_type": "execute_result",
          "data": {
            "text/plain": [
              "array([[<Axes: xlabel='work_year', ylabel='work_year'>,\n",
              "        <Axes: xlabel='salary', ylabel='work_year'>,\n",
              "        <Axes: xlabel='salary_in_usd', ylabel='work_year'>],\n",
              "       [<Axes: xlabel='work_year', ylabel='salary'>,\n",
              "        <Axes: xlabel='salary', ylabel='salary'>,\n",
              "        <Axes: xlabel='salary_in_usd', ylabel='salary'>],\n",
              "       [<Axes: xlabel='work_year', ylabel='salary_in_usd'>,\n",
              "        <Axes: xlabel='salary', ylabel='salary_in_usd'>,\n",
              "        <Axes: xlabel='salary_in_usd', ylabel='salary_in_usd'>]],\n",
              "      dtype=object)"
            ]
          },
          "metadata": {},
          "execution_count": 19
        },
        {
          "output_type": "display_data",
          "data": {
            "text/plain": [
              "<Figure size 640x480 with 9 Axes>"
            ],
            "image/png": "[encoded data removed]"
          },
          "metadata": {}
        }
      ]
    },
    {
      "cell_type": "markdown",
      "source": [
        "Como se mencionó anteriormente, esta base de datos es útil para comprender el salario que percibe un científico de datos, por esta razón a continuación se realizará un análisis más detallado de los valores registrados en la base de datos para este registro."
      ],
      "metadata": {
        "id": "6yGFr0zSlZJm"
      }
    },
    {
      "cell_type": "markdown",
      "source": [
        "La base de datos cuenta con una columna de salario que se encuentra en la moneda local de cada registro de trabajo, sin embargo, también se cuenta con una columna del salario en dólares estadounidenses (USD). Para el presente trabajo se utilizará la columna de salario en USD dado que se la podrá utilizar para comparar los registros de la base de datos bajo la misma métrica."
      ],
      "metadata": {
        "id": "KhjeBfA_lpHg"
      }
    },
    {
      "cell_type": "markdown",
      "source": [
        "Como se puede observar en la gráfica anterior, al contar con registros de salario en modenas diferentes, los registros no guardan relación entre sí y el gráfico de salario muestra agrupación o frecuencia absoluta elevada para valores menores. Esto puede darse al comparar salarios que en monedas diferentes sean representados por valores numéricos más grandes a pesar de que puedan realmente tener menor poder adquisitivo que salarios en otras monedas. \n",
        "\n",
        "En el histograma de salario en USD se muestra una distribución más representativa dado que se muestra la distribución representa bajo la misma moneda. Se puede realizar una comparación directa de los datos, algo que no podría suceder si se cuenta con distintas medidas."
      ],
      "metadata": {
        "id": "LFPZgLqqmPXu"
      }
    },
    {
      "cell_type": "markdown",
      "source": [
        "A continuación el histograma de salario en USD de forma más amplia."
      ],
      "metadata": {
        "id": "vilz29mqoW-b"
      }
    },
    {
      "cell_type": "code",
      "source": [
        "df.hist(column=['salary_in_usd'])"
      ],
      "metadata": {
        "colab": {
          "base_uri": "https://localhost:8080/",
          "height": 469
        },
        "id": "82-kPdldoVS6",
        "outputId": "d61791e7-94f7-46d7-d5cc-7150df762f68"
      },
      "execution_count": null,
      "outputs": [
        {
          "output_type": "execute_result",
          "data": {
            "text/plain": [
              "array([[<Axes: title={'center': 'salary_in_usd'}>]], dtype=object)"
            ]
          },
          "metadata": {},
          "execution_count": 20
        },
        {
          "output_type": "display_data",
          "data": {
            "text/plain": [
              "<Figure size 640x480 with 1 Axes>"
            ],
            "image/png": "[encoded data removed]"
          },
          "metadata": {}
        }
      ]
    },
    {
      "cell_type": "markdown",
      "source": [
        "El histograma del salario en USD es más representativo ya que se puede ver cómo se distribuyen los salarios bajo un mismo parámetro de comparación que en esta caso la misma moneda (USD).\n",
        "\n",
        "La mayoría de los salarios están agrupados entre sí en los niveles más bajos y se puede observar cómo existen registros con mucha mayor paga, a pesar de que los mismos son escasos comparados al total de registros. El histograma es de igual forma, asimétrico con cierto sesgo hacia la izquierda.\n",
        "\n",
        "El histograma al dividir por rangos el salario, se parece a una distribución de una variable discreta Poisson por los registros de salarios elevados que se extiende."
      ],
      "metadata": {
        "id": "8yW1EZHoozQP"
      }
    },
    {
      "cell_type": "code",
      "source": [
        "sns.boxplot(df['salary_in_usd'])"
      ],
      "metadata": {
        "colab": {
          "base_uri": "https://localhost:8080/",
          "height": 447
        },
        "id": "v_l9Td9Es2o3",
        "outputId": "8b2eb154-b42d-4a8d-c082-2e590622b3e6"
      },
      "execution_count": null,
      "outputs": [
        {
          "output_type": "execute_result",
          "data": {
            "text/plain": [
              "<Axes: >"
            ]
          },
          "metadata": {},
          "execution_count": 28
        },
        {
          "output_type": "display_data",
          "data": {
            "text/plain": [
              "<Figure size 640x480 with 1 Axes>"
            ],
            "image/png": "[encoded data removed]"
          },
          "metadata": {}
        }
      ]
    },
    {
      "cell_type": "markdown",
      "source": [
        "Al realizar un boxplot del salario en USD, se pueden observar que existen algunos valores atípicos por encima del resto. Esto quiere decir que hay ciertos registros cuyo salario fue lo suficientemente alto como para alejarse del resto del conjunto de datos. \n",
        "\n",
        "A partir del 3er cuartil los salarios se empiezan a alejar, sucede que el restante de los registros empieza a dispersarse más y sus salarios pueden crecer en mayor medida dejando de guardar tanta relación con el resto de datos."
      ],
      "metadata": {
        "id": "2mBfbKdbtPT5"
      }
    },
    {
      "cell_type": "markdown",
      "source": [
        "## Aproximar Distribuciones"
      ],
      "metadata": {
        "id": "BM4I0em6sqYS"
      }
    },
    {
      "cell_type": "markdown",
      "source": [
        "Con la finalidad de aproximar la distribución del salario en USD a través del uso de funciones, se utilizará Fitter.\n",
        "\n",
        "Es importante poder aproximar distribuciones ya que de esta forma se puede identificar la distribución más adecuada de los datos y tener una representación más precisa de los mismos.\n",
        "\n",
        "Al aproximar la distribución se pueden hacer inferencias estadísticas ya que al conocer los parámetros se pueden calcular probabilidaddes en los datos y ajustar modelos con la finalidad de realizar predicciones ya que muchos de los conceptos estadísticos parten de supuestos referentes a distribución normal de los datos.\n",
        "\n",
        "Se puede de igual forma resumir los datos y en lugar de trabajar con todos, utilizar la función de ajuste que los representa y resume su distribución de forma más comprensible."
      ],
      "metadata": {
        "id": "k7eAycLbxcLQ"
      }
    },
    {
      "cell_type": "code",
      "source": [
        "fitSalario = Fitter(df['salary_in_usd'].values, timeout=120)\n",
        "fitSalario.fit()\n",
        "fitSalario.summary()"
      ],
      "metadata": {
        "colab": {
          "base_uri": "https://localhost:8080/",
          "height": 1000
        },
        "id": "53S1o-mDH4W5",
        "outputId": "5f6b9c1d-e1a7-433f-9ac6-b2c14c48d154"
      },
      "execution_count": null,
      "outputs": [
        {
          "output_type": "stream",
          "name": "stderr",
          "text": [
            "/usr/local/lib/python3.10/dist-packages/scipy/integrate/_quadpack_py.py:1225: IntegrationWarning: The maximum number of subdivisions (50) has been achieved.\n",
            "  If increasing the limit yields no improvement it is advised to analyze \n",
            "  the integrand in order to determine the difficulties.  If the position of a \n",
            "  local difficulty can be determined (singularity, discontinuity) one will \n",
            "  probably gain from splitting up the interval and calling the integrator \n",
            "  on the subranges.  Perhaps a special-purpose integrator should be used.\n",
            "  quad_r = quad(f, low, high, args=args, full_output=self.full_output,\n",
            "/usr/local/lib/python3.10/dist-packages/scipy/integrate/_quadpack_py.py:1225: IntegrationWarning: The occurrence of roundoff error is detected, which prevents \n",
            "  the requested tolerance from being achieved.  The error may be \n",
            "  underestimated.\n",
            "  quad_r = quad(f, low, high, args=args, full_output=self.full_output,\n",
            "Fitting 110 distributions:   0%|          | 0/110 [00:00<?, ?it/s]WARNING:fitter.fitter:SKIPPED _fit distribution (taking more than 120 seconds)\n",
            "Fitting 110 distributions:  50%|█████     | 55/110 [03:06<01:42,  1.87s/it]WARNING:fitter.fitter:SKIPPED kstwo distribution (taking more than 120 seconds)\n",
            "Fitting 110 distributions:  66%|██████▋   | 73/110 [04:51<09:05, 14.75s/it]WARNING:fitter.fitter:SKIPPED levy_stable distribution (taking more than 120 seconds)\n",
            "Fitting 110 distributions:  69%|██████▉   | 76/110 [06:22<12:47, 22.58s/it]/usr/local/lib/python3.10/dist-packages/scipy/integrate/_quadpack_py.py:1225: IntegrationWarning: The maximum number of subdivisions (50) has been achieved.\n",
            "  If increasing the limit yields no improvement it is advised to analyze \n",
            "  the integrand in order to determine the difficulties.  If the position of a \n",
            "  local difficulty can be determined (singularity, discontinuity) one will \n",
            "  probably gain from splitting up the interval and calling the integrator \n",
            "  on the subranges.  Perhaps a special-purpose integrator should be used.\n",
            "  quad_r = quad(f, low, high, args=args, full_output=self.full_output,\n",
            "Fitting 110 distributions:  71%|███████   | 78/110 [06:24<06:06, 11.45s/it]/usr/local/lib/python3.10/dist-packages/scipy/integrate/_quadpack_py.py:1225: IntegrationWarning: The occurrence of roundoff error is detected, which prevents \n",
            "  the requested tolerance from being achieved.  The error may be \n",
            "  underestimated.\n",
            "  quad_r = quad(f, low, high, args=args, full_output=self.full_output,\n",
            "Fitting 110 distributions:  79%|███████▉  | 87/110 [07:13<02:05,  5.47s/it]WARNING:fitter.fitter:SKIPPED rv_continuous distribution (taking more than 120 seconds)\n",
            "WARNING:fitter.fitter:SKIPPED rv_histogram distribution (taking more than 120 seconds)\n",
            "Fitting 110 distributions:  90%|█████████ | 99/110 [08:10<01:21,  7.39s/it]/usr/local/lib/python3.10/dist-packages/scipy/integrate/_quadpack_py.py:1225: IntegrationWarning: The integral is probably divergent, or slowly convergent.\n",
            "  quad_r = quad(f, low, high, args=args, full_output=self.full_output,\n",
            "Fitting 110 distributions:  92%|█████████▏| 101/110 [08:27<01:15,  8.35s/it]WARNING:fitter.fitter:SKIPPED studentized_range distribution (taking more than 120 seconds)\n",
            "Fitting 110 distributions: 100%|██████████| 110/110 [09:55<00:00,  5.42s/it]\n",
            "/usr/local/lib/python3.10/dist-packages/scipy/integrate/_quadpack_py.py:1225: IntegrationWarning: The maximum number of subdivisions (50) has been achieved.\n",
            "  If increasing the limit yields no improvement it is advised to analyze \n",
            "  the integrand in order to determine the difficulties.  If the position of a \n",
            "  local difficulty can be determined (singularity, discontinuity) one will \n",
            "  probably gain from splitting up the interval and calling the integrator \n",
            "  on the subranges.  Perhaps a special-purpose integrator should be used.\n",
            "  quad_r = quad(f, low, high, args=args, full_output=self.full_output,\n",
            "/usr/local/lib/python3.10/dist-packages/scipy/integrate/_quadpack_py.py:1225: IntegrationWarning: The occurrence of roundoff error is detected, which prevents \n",
            "  the requested tolerance from being achieved.  The error may be \n",
            "  underestimated.\n",
            "  quad_r = quad(f, low, high, args=args, full_output=self.full_output,\n",
            "/usr/local/lib/python3.10/dist-packages/scipy/integrate/_quadpack_py.py:1225: IntegrationWarning: The maximum number of subdivisions (50) has been achieved.\n",
            "  If increasing the limit yields no improvement it is advised to analyze \n",
            "  the integrand in order to determine the difficulties.  If the position of a \n",
            "  local difficulty can be determined (singularity, discontinuity) one will \n",
            "  probably gain from splitting up the interval and calling the integrator \n",
            "  on the subranges.  Perhaps a special-purpose integrator should be used.\n",
            "  quad_r = quad(f, low, high, args=args, full_output=self.full_output,\n",
            "/usr/local/lib/python3.10/dist-packages/scipy/integrate/_quadpack_py.py:1225: IntegrationWarning: The occurrence of roundoff error is detected, which prevents \n",
            "  the requested tolerance from being achieved.  The error may be \n",
            "  underestimated.\n",
            "  quad_r = quad(f, low, high, args=args, full_output=self.full_output,\n",
            "/usr/local/lib/python3.10/dist-packages/scipy/integrate/_quadpack_py.py:1225: IntegrationWarning: The maximum number of subdivisions (50) has been achieved.\n",
            "  If increasing the limit yields no improvement it is advised to analyze \n",
            "  the integrand in order to determine the difficulties.  If the position of a \n",
            "  local difficulty can be determined (singularity, discontinuity) one will \n",
            "  probably gain from splitting up the interval and calling the integrator \n",
            "  on the subranges.  Perhaps a special-purpose integrator should be used.\n",
            "  quad_r = quad(f, low, high, args=args, full_output=self.full_output,\n"
          ]
        },
        {
          "output_type": "execute_result",
          "data": {
            "text/plain": [
              "               sumsquare_error          aic            bic  kl_div  \\\n",
              "gennorm           7.855414e-11  2943.716390 -118250.585167     inf   \n",
              "exponnorm         7.945251e-11  2851.319103 -118207.885536     inf   \n",
              "tukeylambda       7.964216e-11  2922.725823 -118198.933020     inf   \n",
              "vonmises_line     7.982997e-11  2888.105644 -118190.088404     inf   \n",
              "logistic          8.032066e-11  2887.315168 -118175.309359     inf   \n",
              "\n",
              "               ks_statistic  ks_pvalue  \n",
              "gennorm            0.030381   0.001912  \n",
              "exponnorm          0.024888   0.018771  \n",
              "tukeylambda        0.030685   0.001662  \n",
              "vonmises_line      0.029277   0.003137  \n",
              "logistic           0.024612   0.020797  "
            ],
            "text/html": [
              "\n",
              "  <div id=\"df-4face36d-3a7a-4c11-ac7e-34fca3c68d83\">\n",
              "    <div class=\"colab-df-container\">\n",
              "      <div>\n",
              "<style scoped>\n",
              "    .dataframe tbody tr th:only-of-type {\n",
              "        vertical-align: middle;\n",
              "    }\n",
              "\n",
              "    .dataframe tbody tr th {\n",
              "        vertical-align: top;\n",
              "    }\n",
              "\n",
              "    .dataframe thead th {\n",
              "        text-align: right;\n",
              "    }\n",
              "</style>\n",
              "<table border=\"1\" class=\"dataframe\">\n",
              "  <thead>\n",
              "    <tr style=\"text-align: right;\">\n",
              "      <th></th>\n",
              "      <th>sumsquare_error</th>\n",
              "      <th>aic</th>\n",
              "      <th>bic</th>\n",
              "      <th>kl_div</th>\n",
              "      <th>ks_statistic</th>\n",
              "      <th>ks_pvalue</th>\n",
              "    </tr>\n",
              "  </thead>\n",
              "  <tbody>\n",
              "    <tr>\n",
              "      <th>gennorm</th>\n",
              "      <td>7.855414e-11</td>\n",
              "      <td>2943.716390</td>\n",
              "      <td>-118250.585167</td>\n",
              "      <td>inf</td>\n",
              "      <td>0.030381</td>\n",
              "      <td>0.001912</td>\n",
              "    </tr>\n",
              "    <tr>\n",
              "      <th>exponnorm</th>\n",
              "      <td>7.945251e-11</td>\n",
              "      <td>2851.319103</td>\n",
              "      <td>-118207.885536</td>\n",
              "      <td>inf</td>\n",
              "      <td>0.024888</td>\n",
              "      <td>0.018771</td>\n",
              "    </tr>\n",
              "    <tr>\n",
              "      <th>tukeylambda</th>\n",
              "      <td>7.964216e-11</td>\n",
              "      <td>2922.725823</td>\n",
              "      <td>-118198.933020</td>\n",
              "      <td>inf</td>\n",
              "      <td>0.030685</td>\n",
              "      <td>0.001662</td>\n",
              "    </tr>\n",
              "    <tr>\n",
              "      <th>vonmises_line</th>\n",
              "      <td>7.982997e-11</td>\n",
              "      <td>2888.105644</td>\n",
              "      <td>-118190.088404</td>\n",
              "      <td>inf</td>\n",
              "      <td>0.029277</td>\n",
              "      <td>0.003137</td>\n",
              "    </tr>\n",
              "    <tr>\n",
              "      <th>logistic</th>\n",
              "      <td>8.032066e-11</td>\n",
              "      <td>2887.315168</td>\n",
              "      <td>-118175.309359</td>\n",
              "      <td>inf</td>\n",
              "      <td>0.024612</td>\n",
              "      <td>0.020797</td>\n",
              "    </tr>\n",
              "  </tbody>\n",
              "</table>\n",
              "</div>\n",
              "      <button class=\"colab-df-convert\" onclick=\"convertToInteractive('df-4face36d-3a7a-4c11-ac7e-34fca3c68d83')\"\n",
              "              title=\"Convert this dataframe to an interactive table.\"\n",
              "              style=\"display:none;\">\n",
              "        \n",
              "  <svg xmlns=\"http://www.w3.org/2000/svg\" height=\"24px\"viewBox=\"0 0 24 24\"\n",
              "       width=\"24px\">\n",
              "    <path d=\"M0 0h24v24H0V0z\" fill=\"none\"/>\n",
              "    <path d=\"M18.56 5.44l.94 2.06.94-2.06 2.06-.94-2.06-.94-.94-2.06-.94 2.06-2.06.94zm-11 1L8.5 8.5l.94-2.06 2.06-.94-2.06-.94L8.5 2.5l-.94 2.06-2.06.94zm10 10l.94 2.06.94-2.06 2.06-.94-2.06-.94-.94-2.06-.94 2.06-2.06.94z\"/><path d=\"M17.41 7.96l-1.37-1.37c-.4-.4-.92-.59-1.43-.59-.52 0-1.04.2-1.43.59L10.3 9.45l-7.72 7.72c-.78.78-.78 2.05 0 2.83L4 21.41c.39.39.9.59 1.41.59.51 0 1.02-.2 1.41-.59l7.78-7.78 2.81-2.81c.8-.78.8-2.07 0-2.86zM5.41 20L4 18.59l7.72-7.72 1.47 1.35L5.41 20z\"/>\n",
              "  </svg>\n",
              "      </button>\n",
              "      \n",
              "  <style>\n",
              "    .colab-df-container {\n",
              "      display:flex;\n",
              "      flex-wrap:wrap;\n",
              "      gap: 12px;\n",
              "    }\n",
              "\n",
              "    .colab-df-convert {\n",
              "      background-color: #E8F0FE;\n",
              "      border: none;\n",
              "      border-radius: 50%;\n",
              "      cursor: pointer;\n",
              "      display: none;\n",
              "      fill: #1967D2;\n",
              "      height: 32px;\n",
              "      padding: 0 0 0 0;\n",
              "      width: 32px;\n",
              "    }\n",
              "\n",
              "    .colab-df-convert:hover {\n",
              "      background-color: #E2EBFA;\n",
              "      box-shadow: 0px 1px 2px rgba(60, 64, 67, 0.3), 0px 1px 3px 1px rgba(60, 64, 67, 0.15);\n",
              "      fill: #174EA6;\n",
              "    }\n",
              "\n",
              "    [theme=dark] .colab-df-convert {\n",
              "      background-color: #3B4455;\n",
              "      fill: #D2E3FC;\n",
              "    }\n",
              "\n",
              "    [theme=dark] .colab-df-convert:hover {\n",
              "      background-color: #434B5C;\n",
              "      box-shadow: 0px 1px 3px 1px rgba(0, 0, 0, 0.15);\n",
              "      filter: drop-shadow(0px 1px 2px rgba(0, 0, 0, 0.3));\n",
              "      fill: #FFFFFF;\n",
              "    }\n",
              "  </style>\n",
              "\n",
              "      <script>\n",
              "        const buttonEl =\n",
              "          document.querySelector('#df-4face36d-3a7a-4c11-ac7e-34fca3c68d83 button.colab-df-convert');\n",
              "        buttonEl.style.display =\n",
              "          google.colab.kernel.accessAllowed ? 'block' : 'none';\n",
              "\n",
              "        async function convertToInteractive(key) {\n",
              "          const element = document.querySelector('#df-4face36d-3a7a-4c11-ac7e-34fca3c68d83');\n",
              "          const dataTable =\n",
              "            await google.colab.kernel.invokeFunction('convertToInteractive',\n",
              "                                                     [key], {});\n",
              "          if (!dataTable) return;\n",
              "\n",
              "          const docLinkHtml = 'Like what you see? Visit the ' +\n",
              "            '<a target=\"_blank\" href=https://colab.research.google.com/notebooks/data_table.ipynb>data table notebook</a>'\n",
              "            + ' to learn more about interactive tables.';\n",
              "          element.innerHTML = '';\n",
              "          dataTable['output_type'] = 'display_data';\n",
              "          await google.colab.output.renderOutput(dataTable, element);\n",
              "          const docLink = document.createElement('div');\n",
              "          docLink.innerHTML = docLinkHtml;\n",
              "          element.appendChild(docLink);\n",
              "        }\n",
              "      </script>\n",
              "    </div>\n",
              "  </div>\n",
              "  "
            ]
          },
          "metadata": {},
          "execution_count": 31
        },
        {
          "output_type": "stream",
          "name": "stderr",
          "text": [
            "/usr/local/lib/python3.10/dist-packages/scipy/integrate/_quadpack_py.py:1225: IntegrationWarning: The occurrence of roundoff error is detected, which prevents \n",
            "  the requested tolerance from being achieved.  The error may be \n",
            "  underestimated.\n",
            "  quad_r = quad(f, low, high, args=args, full_output=self.full_output,\n"
          ]
        },
        {
          "output_type": "display_data",
          "data": {
            "text/plain": [
              "<Figure size 640x480 with 1 Axes>"
            ],
            "image/png": "[encoded data removed]"
          },
          "metadata": {}
        }
      ]
    },
    {
      "cell_type": "markdown",
      "source": [
        "### Análisis"
      ],
      "metadata": {
        "id": "fI7XQ_G02d71"
      }
    },
    {
      "cell_type": "code",
      "source": [
        "print(\"Mejor distribución con sus parámetros\", fitSalario.get_best(method='sumsquare_error'))"
      ],
      "metadata": {
        "colab": {
          "base_uri": "https://localhost:8080/"
        },
        "id": "DZuTdJNgy_T_",
        "outputId": "3399c4c1-cc49-40a7-8877-61aff36d58ac"
      },
      "execution_count": null,
      "outputs": [
        {
          "output_type": "stream",
          "name": "stdout",
          "text": [
            "Mejor distribución con sus parámetros {'gennorm': {'beta': 1.6370120080058381, 'loc': 136184.49257529987, 'scale': 78667.86672348162}}\n"
          ]
        }
      ]
    },
    {
      "cell_type": "markdown",
      "source": [
        "Fitter es útil ya que prueba ajustando más de 100 distribuciones para encontrar aquellas que se ajusten de mejor forma a los datos.\n",
        "\n",
        "Con la finalidad de conocer la distribución que mejor se ajusta, se puede observar en la tabla las mejores 5 distribuciones con sus respectivos valores estadísticos que las evalúan. Para hallar la infromación de aquella que tuvo menor error cuatrático se utiliza la siguiente función.\n",
        "\n",
        "La distribución que tuvo mejor ajuste fue gennnorm obteniendo un valor cuadrático muy bajo indicando que la distribución gennorm tuvo buen ajuste a los datos con muy poco error.\n",
        "\n",
        "A través de los criterios AIC y BIC se puede comparar el ajuste con distintos modelos. Se puede observar en la gráfica y en la tabla que varias distribuciones lograron ajustarse bien a los datos por lo que cualquiera de estas puede representar al conjunto de salarios en USD.\n",
        "\n",
        "En este caso el valor de Kullback-Leibler (KL) no pudo ser calculado por lo que su valor es representado por 'inf' y no se puede conocer la distancia entre la distribución ajustada gennorm y los datos.\n",
        "\n",
        "El valor de KS es bajo indicando buen ajuste de la distribución ajustada. Este valor mientras más bajo sea, representa mejor ajuste.\n",
        "\n",
        "Por último el pvalue de ajuste de KS es lo suficientemente bajo para indicar que la prueba de ajuste es significativa indicando que la distribución de ajuste es válida y aceptada.\n",
        "\n",
        "Por lo general, la distribución gennorm se utiliza para modelar variables continuas con asimetría y colas pesadas. Esta distribucióon cuenta con los parámetros beta y escala (gamma).\n",
        "\n",
        "Beta determina la forma de la distribución y controla el grado de asimetría de los datos. Si es mayor a 0 indica asimetría positiva, si es menor a 0 indica asimetría negativa mientras que si es igual a 0 indica simetría similar a la de una distribución normal estándar.\n",
        "\n",
        "El parámetro de escala (gamma) controla la dispersión de los datos, si es mayor a 0 indica mayor dispersión, si es menor a 0 determina menor dispersión y si es igual a 1 produce dispersión similar a una distribución normal estándar\n",
        "\n",
        "Los parámetros ajustados de la distribución gennorm fueron:\n",
        "* beta = 1.6370120080058381\n",
        "* escala = 78667.86672348162\n",
        "\n",
        "De igual forma se obtuvo un valor de desplazamiento, es decir se dio una traslación horizontal de la distribución.\n",
        "* loc = 136184.49257529987\n",
        "\n",
        "#### Interpretación de parámetros\n",
        "Al haber obtenido un valor de beta mayor a 0, se sabe que el ajuste de la distribución tuvo asimetría positiva.\n",
        "\n",
        "El valor de escala obtenido muestra que se dio gran dispersión en el ajuste de los datos, pues el parámetro tiene un valor bastante elevado para representar las cifras del salario que se percibe en dólares estadounidenses como científico de datos.\n",
        "\n",
        "La distribución tuvo una traslación horizontal hacia la derecha que se puede comprender dado que los salarios son mayores a cero y se muestran cifras altas para los mismos.\n",
        "\n",
        "#### Uso del modelo\n",
        "A través de los parámetros obtenidos y explicados anteriormnete se puede representar el conjunto de datos de la base de datos con la distribución gennorm ajustada. Se obtiene una ecuación para modelar y representar el conjunto de datos ya que se conoce por los supuestos del modelo y las pruebas estadísticas que es significativo representando correctamente el conjunto de datos.\n",
        "\n",
        "Se puede aplicar conceptos de probabilidad ya que se conoce a través de los parámetros la distribución de los datos. De igual forma se puede utilizar la distribución de probabilidad para comparar e identificar similitudes con otras distribuciones al ser capaces de obtener valores como la varianza de la distribución y posibles valores que puede tomar.\n",
        "\n",
        "Fitter fue útil para poder aproximar la distribución de los datos de salarios de científicos de datos con el mejor ajuste posible, obteniendo los parámetros de la distribución para representarla.\n",
        "\n",
        "Con los parámetros se puede tener la ecuación de la distribución para representar de forma precisa el conjunto de datos. Se la puede utilizar para hacer inferencias estadísticas, calcular probabilidades en los datos y ajustar modelos con la finalidad de realizar predicciones.\n",
        "\n",
        "Se logró resumir los datos y su distribución con el ajuste de gennorm para obtener una representación más comprensible.\n",
        "\n",
        "\n"
      ],
      "metadata": {
        "id": "j6jTc2f6zKD6"
      }
    },
    {
      "cell_type": "markdown",
      "source": [
        "## Referencias"
      ],
      "metadata": {
        "id": "ZAFlDlSSDN_c"
      }
    },
    {
      "cell_type": "markdown",
      "source": [
        "Chaki, A. (2023). Data Science Salaries 2023. Recuperado de https://www.kaggle.com/datasets/arnabchaki/data-science-salaries-2023 el 15 de mayo de 2023.\n",
        "\n",
        "Cook, J. (2018, March 30). Generalized Normal Kurtosis. Recuperado de https://www.johndcook.com/blog/2018/03/30/generalized-normal-kurtosis/ el 15 de mayo de 2023.\n",
        "\n",
        "SciPy.org. (2023, May 15). Continuous distributions: Normal distribution. Recuperado de https://docs.scipy.org/doc/scipy/tutorial/stats/continuous_gennorm.html el 15 de mayo de 2023."
      ],
      "metadata": {
        "id": "iSuqB6GIGYZC"
      }
    }
  ]
}